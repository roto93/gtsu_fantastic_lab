{
 "cells": [
  {
   "cell_type": "markdown",
   "metadata": {},
   "source": [
    "# 主題：天文照片辨認"
   ]
  },
  {
   "cell_type": "markdown",
   "metadata": {},
   "source": [
    "## 組員"
   ]
  },
  {
   "cell_type": "markdown",
   "metadata": {},
   "source": [
    "+ 蘇冠庭 師大物理四\n",
    "\n",
    "+ 王博群 台大地理四 "
   ]
  },
  {
   "cell_type": "markdown",
   "metadata": {},
   "source": [
    "## 介紹"
   ]
  },
  {
   "cell_type": "markdown",
   "metadata": {},
   "source": [
    "我自己有在玩天文攝影，也有在一些FB社團或網頁中欣賞別人的作品，常常會看到有人丟一張照片上來詢問是什麼天體。然而實際情況是除非那個天體是星雲或是極為特別，否則若是沒有附近天區資訊的話就算是老手也不能很快解答。所以我就想到如果能提供很多天體的照片給程式訓練的話，辨識能力說不定能比人眼辨識來得好。\n",
    "\n",
    "input: 天文照片（畫面有時會平移、旋轉、縮放，甚至影像的對比不同）\n",
    "\n",
    "output: 天體名稱\n",
    "\n",
    "通常會有辨認困難的會是星團，因為星雲或星系人們比較容易認得出來。\n",
    "不過因為宇宙無窮無盡，可以先鎖定在比較有名的梅西爾天體中的星團照片進行訓練就好，甚至是改成星座辨認也不錯，星座一共 88 個，對一個人來說也是不好記完。"
   ]
  },
  {
   "cell_type": "markdown",
   "metadata": {},
   "source": [
    "## 實作方法"
   ]
  },
  {
   "cell_type": "markdown",
   "metadata": {},
   "source": [
    "+ 從 <a href='http://hubblesite.org/images/gallery'>哈勃官網</a>、<a href='https://www.noao.edu/image_gallery/'>美國國家光學天文台</a>、<a href='https://images.nasa.gov'>美國太空總署圖片庫</a>、<a href='https://nasasearch.nasa.gov/search/images?affiliate=nasa&query='>NASA搜尋</a>\n",
    "四個公開網站獲取資料\n",
    "+ 鎖定在梅西爾天體的共29個球狀星團，其編號是：2 3 4 5 9 10 12 13 14 15 19 22 28 30 53 54 55 56 62 68 69 70 71 72 75 79 80 92 107。\n",
    "+ 用opencv套件，統一圖片的維度。\n",
    "+ 增加樣本數，把現有的圖片做影像處理（例如旋轉、模糊、縮放、改變對比度），假設我們做了十種旋轉，五種模糊程度，五種縮放，五種對比度，樣本數就會1250倍。\n",
    "+ 用CNN進行辨識與訓練。\n",
    "\n",
    "<img src=https://i.screenshot.net/65nqxh0>"
   ]
  },
  {
   "cell_type": "markdown",
   "metadata": {},
   "source": [
    "## 專案排程"
   ]
  },
  {
   "cell_type": "markdown",
   "metadata": {},
   "source": [
    "5/26前：搜集所需的圖片資料\n",
    "5/28前：決定並統一圖片的維度\n",
    "5/31前：做影像處理增加訓練資料量，順便做標記\n",
    "6/5前：做training，並嘗試不同模型\n",
    "6/7前：撰寫結果報告"
   ]
  },
  {
   "cell_type": "markdown",
   "metadata": {},
   "source": [
    "## 目前進度"
   ]
  },
  {
   "cell_type": "markdown",
   "metadata": {},
   "source": [
    "正在搜集所需的資料"
   ]
  }
 ],
 "metadata": {
  "kernelspec": {
   "display_name": "Python 3",
   "language": "python",
   "name": "python3"
  },
  "language_info": {
   "codemirror_mode": {
    "name": "ipython",
    "version": 3
   },
   "file_extension": ".py",
   "mimetype": "text/x-python",
   "name": "python",
   "nbconvert_exporter": "python",
   "pygments_lexer": "ipython3",
   "version": "3.6.8"
  }
 },
 "nbformat": 4,
 "nbformat_minor": 2
}
