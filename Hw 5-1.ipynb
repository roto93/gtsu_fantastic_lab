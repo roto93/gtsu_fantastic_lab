{
 "cells": [
  {
   "cell_type": "code",
   "execution_count": 1,
   "metadata": {},
   "outputs": [],
   "source": [
    "%matplotlib inline\n",
    "\n",
    "import numpy as np\n",
    "import matplotlib.pyplot as plt\n",
    "import matplotlib as mpl\n",
    "import pandas as pd\n",
    "mpl.rc('font', family='Noto Sans CJK TC')"
   ]
  },
  {
   "cell_type": "markdown",
   "metadata": {},
   "source": [
    "## 下載 106 年 1/1 至今年 4/11 期間高雄市的珍珠芭樂「產品日交易行情」excel 檔"
   ]
  },
  {
   "cell_type": "code",
   "execution_count": 2,
   "metadata": {},
   "outputs": [],
   "source": [
    "df = pd.read_excel('HanBala2.xls')"
   ]
  },
  {
   "cell_type": "code",
   "execution_count": 3,
   "metadata": {},
   "outputs": [
    {
     "data": {
      "text/html": [
       "<div>\n",
       "<style scoped>\n",
       "    .dataframe tbody tr th:only-of-type {\n",
       "        vertical-align: middle;\n",
       "    }\n",
       "\n",
       "    .dataframe tbody tr th {\n",
       "        vertical-align: top;\n",
       "    }\n",
       "\n",
       "    .dataframe thead th {\n",
       "        text-align: right;\n",
       "    }\n",
       "</style>\n",
       "<table border=\"1\" class=\"dataframe\">\n",
       "  <thead>\n",
       "    <tr style=\"text-align: right;\">\n",
       "      <th></th>\n",
       "      <th>水果 產品日交易行情</th>\n",
       "      <th>Unnamed: 1</th>\n",
       "      <th>Unnamed: 2</th>\n",
       "      <th>Unnamed: 3</th>\n",
       "      <th>Unnamed: 4</th>\n",
       "      <th>Unnamed: 5</th>\n",
       "      <th>Unnamed: 6</th>\n",
       "      <th>Unnamed: 7</th>\n",
       "      <th>Unnamed: 8</th>\n",
       "      <th>Unnamed: 9</th>\n",
       "      <th>Unnamed: 10</th>\n",
       "    </tr>\n",
       "  </thead>\n",
       "  <tbody>\n",
       "    <tr>\n",
       "      <th>0</th>\n",
       "      <td>交易日期：</td>\n",
       "      <td>106/01/01 ~ 108/04/11 (農曆:105/12/04 ~ 108/03/07)</td>\n",
       "      <td>NaN</td>\n",
       "      <td>NaN</td>\n",
       "      <td>NaN</td>\n",
       "      <td>NaN</td>\n",
       "      <td>NaN</td>\n",
       "      <td>NaN</td>\n",
       "      <td>NaN</td>\n",
       "      <td>NaN</td>\n",
       "      <td>NaN</td>\n",
       "    </tr>\n",
       "    <tr>\n",
       "      <th>1</th>\n",
       "      <td>市　　場：</td>\n",
       "      <td>高雄市</td>\n",
       "      <td>NaN</td>\n",
       "      <td>NaN</td>\n",
       "      <td>NaN</td>\n",
       "      <td>NaN</td>\n",
       "      <td>NaN</td>\n",
       "      <td>NaN</td>\n",
       "      <td>NaN</td>\n",
       "      <td>NaN</td>\n",
       "      <td>NaN</td>\n",
       "    </tr>\n",
       "    <tr>\n",
       "      <th>2</th>\n",
       "      <td>產　　品：</td>\n",
       "      <td>P1 番石榴 珍珠芭</td>\n",
       "      <td>NaN</td>\n",
       "      <td>NaN</td>\n",
       "      <td>NaN</td>\n",
       "      <td>NaN</td>\n",
       "      <td>NaN</td>\n",
       "      <td>NaN</td>\n",
       "      <td>NaN</td>\n",
       "      <td>NaN</td>\n",
       "      <td>NaN</td>\n",
       "    </tr>\n",
       "    <tr>\n",
       "      <th>3</th>\n",
       "      <td>日　　期</td>\n",
       "      <td>市　　場</td>\n",
       "      <td>產　　品</td>\n",
       "      <td>上價</td>\n",
       "      <td>中價</td>\n",
       "      <td>下價</td>\n",
       "      <td>平均價(元/公斤)</td>\n",
       "      <td>增減%</td>\n",
       "      <td>交易量(公斤)</td>\n",
       "      <td>增減%</td>\n",
       "      <td>NaN</td>\n",
       "    </tr>\n",
       "    <tr>\n",
       "      <th>4</th>\n",
       "      <td>106/01/01</td>\n",
       "      <td>800 高雄市</td>\n",
       "      <td>P1 番石榴 珍珠芭</td>\n",
       "      <td>70</td>\n",
       "      <td>65.4</td>\n",
       "      <td>42.3</td>\n",
       "      <td>61.7</td>\n",
       "      <td>+  5</td>\n",
       "      <td>326</td>\n",
       "      <td>- 89</td>\n",
       "      <td>0.0</td>\n",
       "    </tr>\n",
       "    <tr>\n",
       "      <th>5</th>\n",
       "      <td>106/01/03</td>\n",
       "      <td>800 高雄市</td>\n",
       "      <td>P1 番石榴 珍珠芭</td>\n",
       "      <td>76.2</td>\n",
       "      <td>61.7</td>\n",
       "      <td>42.5</td>\n",
       "      <td>60.7</td>\n",
       "      <td>-  2</td>\n",
       "      <td>2033</td>\n",
       "      <td>+524</td>\n",
       "      <td>0.0</td>\n",
       "    </tr>\n",
       "    <tr>\n",
       "      <th>6</th>\n",
       "      <td>106/01/04</td>\n",
       "      <td>800 高雄市</td>\n",
       "      <td>P1 番石榴 珍珠芭</td>\n",
       "      <td>75</td>\n",
       "      <td>65.9</td>\n",
       "      <td>44.5</td>\n",
       "      <td>63.5</td>\n",
       "      <td>+  5</td>\n",
       "      <td>364</td>\n",
       "      <td>- 82</td>\n",
       "      <td>0.0</td>\n",
       "    </tr>\n",
       "    <tr>\n",
       "      <th>7</th>\n",
       "      <td>106/01/05</td>\n",
       "      <td>800 高雄市</td>\n",
       "      <td>P1 番石榴 珍珠芭</td>\n",
       "      <td>70</td>\n",
       "      <td>59</td>\n",
       "      <td>50</td>\n",
       "      <td>59.4</td>\n",
       "      <td>-  6</td>\n",
       "      <td>640</td>\n",
       "      <td>+ 76</td>\n",
       "      <td>0.0</td>\n",
       "    </tr>\n",
       "    <tr>\n",
       "      <th>8</th>\n",
       "      <td>106/01/06</td>\n",
       "      <td>800 高雄市</td>\n",
       "      <td>P1 番石榴 珍珠芭</td>\n",
       "      <td>79.2</td>\n",
       "      <td>57.7</td>\n",
       "      <td>39</td>\n",
       "      <td>58.3</td>\n",
       "      <td>-  2</td>\n",
       "      <td>1306</td>\n",
       "      <td>+104</td>\n",
       "      <td>0.0</td>\n",
       "    </tr>\n",
       "    <tr>\n",
       "      <th>9</th>\n",
       "      <td>106/01/07</td>\n",
       "      <td>800 高雄市</td>\n",
       "      <td>P1 番石榴 珍珠芭</td>\n",
       "      <td>75.5</td>\n",
       "      <td>57.3</td>\n",
       "      <td>47.9</td>\n",
       "      <td>59.1</td>\n",
       "      <td>+  1</td>\n",
       "      <td>1716</td>\n",
       "      <td>+ 31</td>\n",
       "      <td>0.0</td>\n",
       "    </tr>\n",
       "  </tbody>\n",
       "</table>\n",
       "</div>"
      ],
      "text/plain": [
       "  水果 產品日交易行情                                        Unnamed: 1   Unnamed: 2  \\\n",
       "0      交易日期：  106/01/01 ~ 108/04/11 (農曆:105/12/04 ~ 108/03/07)          NaN   \n",
       "1      市　　場：                                               高雄市          NaN   \n",
       "2      產　　品：                                        P1 番石榴 珍珠芭          NaN   \n",
       "3       日　　期                                              市　　場         產　　品   \n",
       "4  106/01/01                                           800 高雄市  P1 番石榴 珍珠芭    \n",
       "5  106/01/03                                           800 高雄市  P1 番石榴 珍珠芭    \n",
       "6  106/01/04                                           800 高雄市  P1 番石榴 珍珠芭    \n",
       "7  106/01/05                                           800 高雄市  P1 番石榴 珍珠芭    \n",
       "8  106/01/06                                           800 高雄市  P1 番石榴 珍珠芭    \n",
       "9  106/01/07                                           800 高雄市  P1 番石榴 珍珠芭    \n",
       "\n",
       "  Unnamed: 3 Unnamed: 4 Unnamed: 5 Unnamed: 6 Unnamed: 7 Unnamed: 8  \\\n",
       "0        NaN        NaN        NaN        NaN        NaN        NaN   \n",
       "1        NaN        NaN        NaN        NaN        NaN        NaN   \n",
       "2        NaN        NaN        NaN        NaN        NaN        NaN   \n",
       "3         上價         中價         下價  平均價(元/公斤)        增減%    交易量(公斤)   \n",
       "4         70       65.4       42.3       61.7       +  5        326   \n",
       "5       76.2       61.7       42.5       60.7       -  2       2033   \n",
       "6         75       65.9       44.5       63.5       +  5        364   \n",
       "7         70         59         50       59.4       -  6        640   \n",
       "8       79.2       57.7         39       58.3       -  2       1306   \n",
       "9       75.5       57.3       47.9       59.1       +  1       1716   \n",
       "\n",
       "  Unnamed: 9  Unnamed: 10  \n",
       "0        NaN          NaN  \n",
       "1        NaN          NaN  \n",
       "2        NaN          NaN  \n",
       "3        增減%          NaN  \n",
       "4       - 89          0.0  \n",
       "5       +524          0.0  \n",
       "6       - 82          0.0  \n",
       "7       + 76          0.0  \n",
       "8       +104          0.0  \n",
       "9       + 31          0.0  "
      ]
     },
     "execution_count": 3,
     "metadata": {},
     "output_type": "execute_result"
    }
   ],
   "source": [
    "df.head(10)"
   ]
  },
  {
   "cell_type": "markdown",
   "metadata": {},
   "source": [
    "## 整理"
   ]
  },
  {
   "cell_type": "code",
   "execution_count": 4,
   "metadata": {},
   "outputs": [],
   "source": [
    "colnames = df.loc[3].values\n",
    "df=df[4:]\n",
    "df.columns = colnames\n",
    "df_r,df_c = df.shape"
   ]
  },
  {
   "cell_type": "code",
   "execution_count": 5,
   "metadata": {},
   "outputs": [
    {
     "data": {
      "text/html": [
       "<div>\n",
       "<style scoped>\n",
       "    .dataframe tbody tr th:only-of-type {\n",
       "        vertical-align: middle;\n",
       "    }\n",
       "\n",
       "    .dataframe tbody tr th {\n",
       "        vertical-align: top;\n",
       "    }\n",
       "\n",
       "    .dataframe thead th {\n",
       "        text-align: right;\n",
       "    }\n",
       "</style>\n",
       "<table border=\"1\" class=\"dataframe\">\n",
       "  <thead>\n",
       "    <tr style=\"text-align: right;\">\n",
       "      <th></th>\n",
       "      <th>日　　期</th>\n",
       "      <th>市　　場</th>\n",
       "      <th>產　　品</th>\n",
       "      <th>上價</th>\n",
       "      <th>中價</th>\n",
       "      <th>下價</th>\n",
       "      <th>平均價(元/公斤)</th>\n",
       "      <th>增減%</th>\n",
       "      <th>交易量(公斤)</th>\n",
       "      <th>增減%</th>\n",
       "      <th>nan</th>\n",
       "    </tr>\n",
       "  </thead>\n",
       "  <tbody>\n",
       "    <tr>\n",
       "      <th>4</th>\n",
       "      <td>106/01/01</td>\n",
       "      <td>800 高雄市</td>\n",
       "      <td>P1 番石榴 珍珠芭</td>\n",
       "      <td>70</td>\n",
       "      <td>65.4</td>\n",
       "      <td>42.3</td>\n",
       "      <td>61.7</td>\n",
       "      <td>+  5</td>\n",
       "      <td>326</td>\n",
       "      <td>- 89</td>\n",
       "      <td>0.0</td>\n",
       "    </tr>\n",
       "    <tr>\n",
       "      <th>5</th>\n",
       "      <td>106/01/03</td>\n",
       "      <td>800 高雄市</td>\n",
       "      <td>P1 番石榴 珍珠芭</td>\n",
       "      <td>76.2</td>\n",
       "      <td>61.7</td>\n",
       "      <td>42.5</td>\n",
       "      <td>60.7</td>\n",
       "      <td>-  2</td>\n",
       "      <td>2033</td>\n",
       "      <td>+524</td>\n",
       "      <td>0.0</td>\n",
       "    </tr>\n",
       "    <tr>\n",
       "      <th>6</th>\n",
       "      <td>106/01/04</td>\n",
       "      <td>800 高雄市</td>\n",
       "      <td>P1 番石榴 珍珠芭</td>\n",
       "      <td>75</td>\n",
       "      <td>65.9</td>\n",
       "      <td>44.5</td>\n",
       "      <td>63.5</td>\n",
       "      <td>+  5</td>\n",
       "      <td>364</td>\n",
       "      <td>- 82</td>\n",
       "      <td>0.0</td>\n",
       "    </tr>\n",
       "    <tr>\n",
       "      <th>7</th>\n",
       "      <td>106/01/05</td>\n",
       "      <td>800 高雄市</td>\n",
       "      <td>P1 番石榴 珍珠芭</td>\n",
       "      <td>70</td>\n",
       "      <td>59</td>\n",
       "      <td>50</td>\n",
       "      <td>59.4</td>\n",
       "      <td>-  6</td>\n",
       "      <td>640</td>\n",
       "      <td>+ 76</td>\n",
       "      <td>0.0</td>\n",
       "    </tr>\n",
       "    <tr>\n",
       "      <th>8</th>\n",
       "      <td>106/01/06</td>\n",
       "      <td>800 高雄市</td>\n",
       "      <td>P1 番石榴 珍珠芭</td>\n",
       "      <td>79.2</td>\n",
       "      <td>57.7</td>\n",
       "      <td>39</td>\n",
       "      <td>58.3</td>\n",
       "      <td>-  2</td>\n",
       "      <td>1306</td>\n",
       "      <td>+104</td>\n",
       "      <td>0.0</td>\n",
       "    </tr>\n",
       "  </tbody>\n",
       "</table>\n",
       "</div>"
      ],
      "text/plain": [
       "        日　　期     市　　場         產　　品    上價    中價    下價 平均價(元/公斤)    增減% 交易量(公斤)  \\\n",
       "4  106/01/01  800 高雄市  P1 番石榴 珍珠芭     70  65.4  42.3      61.7   +  5     326   \n",
       "5  106/01/03  800 高雄市  P1 番石榴 珍珠芭   76.2  61.7  42.5      60.7   -  2    2033   \n",
       "6  106/01/04  800 高雄市  P1 番石榴 珍珠芭     75  65.9  44.5      63.5   +  5     364   \n",
       "7  106/01/05  800 高雄市  P1 番石榴 珍珠芭     70    59    50      59.4   -  6     640   \n",
       "8  106/01/06  800 高雄市  P1 番石榴 珍珠芭   79.2  57.7    39      58.3   -  2    1306   \n",
       "\n",
       "     增減%  NaN  \n",
       "4   - 89  0.0  \n",
       "5   +524  0.0  \n",
       "6   - 82  0.0  \n",
       "7   + 76  0.0  \n",
       "8   +104  0.0  "
      ]
     },
     "execution_count": 5,
     "metadata": {},
     "output_type": "execute_result"
    }
   ],
   "source": [
    "df.head()"
   ]
  },
  {
   "cell_type": "code",
   "execution_count": 6,
   "metadata": {},
   "outputs": [],
   "source": [
    "df.index = range(1,df_r+1)"
   ]
  },
  {
   "cell_type": "code",
   "execution_count": 7,
   "metadata": {},
   "outputs": [
    {
     "data": {
      "text/html": [
       "<div>\n",
       "<style scoped>\n",
       "    .dataframe tbody tr th:only-of-type {\n",
       "        vertical-align: middle;\n",
       "    }\n",
       "\n",
       "    .dataframe tbody tr th {\n",
       "        vertical-align: top;\n",
       "    }\n",
       "\n",
       "    .dataframe thead th {\n",
       "        text-align: right;\n",
       "    }\n",
       "</style>\n",
       "<table border=\"1\" class=\"dataframe\">\n",
       "  <thead>\n",
       "    <tr style=\"text-align: right;\">\n",
       "      <th></th>\n",
       "      <th>日　　期</th>\n",
       "      <th>市　　場</th>\n",
       "      <th>產　　品</th>\n",
       "      <th>上價</th>\n",
       "      <th>中價</th>\n",
       "      <th>下價</th>\n",
       "      <th>平均價(元/公斤)</th>\n",
       "      <th>增減%</th>\n",
       "      <th>交易量(公斤)</th>\n",
       "      <th>增減%</th>\n",
       "      <th>nan</th>\n",
       "    </tr>\n",
       "  </thead>\n",
       "  <tbody>\n",
       "    <tr>\n",
       "      <th>1</th>\n",
       "      <td>106/01/01</td>\n",
       "      <td>800 高雄市</td>\n",
       "      <td>P1 番石榴 珍珠芭</td>\n",
       "      <td>70</td>\n",
       "      <td>65.4</td>\n",
       "      <td>42.3</td>\n",
       "      <td>61.7</td>\n",
       "      <td>+  5</td>\n",
       "      <td>326</td>\n",
       "      <td>- 89</td>\n",
       "      <td>0.0</td>\n",
       "    </tr>\n",
       "    <tr>\n",
       "      <th>2</th>\n",
       "      <td>106/01/03</td>\n",
       "      <td>800 高雄市</td>\n",
       "      <td>P1 番石榴 珍珠芭</td>\n",
       "      <td>76.2</td>\n",
       "      <td>61.7</td>\n",
       "      <td>42.5</td>\n",
       "      <td>60.7</td>\n",
       "      <td>-  2</td>\n",
       "      <td>2033</td>\n",
       "      <td>+524</td>\n",
       "      <td>0.0</td>\n",
       "    </tr>\n",
       "    <tr>\n",
       "      <th>3</th>\n",
       "      <td>106/01/04</td>\n",
       "      <td>800 高雄市</td>\n",
       "      <td>P1 番石榴 珍珠芭</td>\n",
       "      <td>75</td>\n",
       "      <td>65.9</td>\n",
       "      <td>44.5</td>\n",
       "      <td>63.5</td>\n",
       "      <td>+  5</td>\n",
       "      <td>364</td>\n",
       "      <td>- 82</td>\n",
       "      <td>0.0</td>\n",
       "    </tr>\n",
       "    <tr>\n",
       "      <th>4</th>\n",
       "      <td>106/01/05</td>\n",
       "      <td>800 高雄市</td>\n",
       "      <td>P1 番石榴 珍珠芭</td>\n",
       "      <td>70</td>\n",
       "      <td>59</td>\n",
       "      <td>50</td>\n",
       "      <td>59.4</td>\n",
       "      <td>-  6</td>\n",
       "      <td>640</td>\n",
       "      <td>+ 76</td>\n",
       "      <td>0.0</td>\n",
       "    </tr>\n",
       "    <tr>\n",
       "      <th>5</th>\n",
       "      <td>106/01/06</td>\n",
       "      <td>800 高雄市</td>\n",
       "      <td>P1 番石榴 珍珠芭</td>\n",
       "      <td>79.2</td>\n",
       "      <td>57.7</td>\n",
       "      <td>39</td>\n",
       "      <td>58.3</td>\n",
       "      <td>-  2</td>\n",
       "      <td>1306</td>\n",
       "      <td>+104</td>\n",
       "      <td>0.0</td>\n",
       "    </tr>\n",
       "  </tbody>\n",
       "</table>\n",
       "</div>"
      ],
      "text/plain": [
       "        日　　期     市　　場         產　　品    上價    中價    下價 平均價(元/公斤)    增減% 交易量(公斤)  \\\n",
       "1  106/01/01  800 高雄市  P1 番石榴 珍珠芭     70  65.4  42.3      61.7   +  5     326   \n",
       "2  106/01/03  800 高雄市  P1 番石榴 珍珠芭   76.2  61.7  42.5      60.7   -  2    2033   \n",
       "3  106/01/04  800 高雄市  P1 番石榴 珍珠芭     75  65.9  44.5      63.5   +  5     364   \n",
       "4  106/01/05  800 高雄市  P1 番石榴 珍珠芭     70    59    50      59.4   -  6     640   \n",
       "5  106/01/06  800 高雄市  P1 番石榴 珍珠芭   79.2  57.7    39      58.3   -  2    1306   \n",
       "\n",
       "     增減%  NaN  \n",
       "1   - 89  0.0  \n",
       "2   +524  0.0  \n",
       "3   - 82  0.0  \n",
       "4   + 76  0.0  \n",
       "5   +104  0.0  "
      ]
     },
     "execution_count": 7,
     "metadata": {},
     "output_type": "execute_result"
    }
   ],
   "source": [
    "df.head()"
   ]
  },
  {
   "cell_type": "markdown",
   "metadata": {},
   "source": [
    "### 想簡潔列出 colnames"
   ]
  },
  {
   "cell_type": "code",
   "execution_count": 8,
   "metadata": {},
   "outputs": [],
   "source": [
    "df_r,df_c = df.shape"
   ]
  },
  {
   "cell_type": "code",
   "execution_count": 9,
   "metadata": {},
   "outputs": [
    {
     "data": {
      "text/plain": [
       "(672, 11)"
      ]
     },
     "execution_count": 9,
     "metadata": {},
     "output_type": "execute_result"
    }
   ],
   "source": [
    "df_r,df_c"
   ]
  },
  {
   "cell_type": "code",
   "execution_count": 10,
   "metadata": {},
   "outputs": [
    {
     "name": "stdout",
     "output_type": "stream",
     "text": [
      "日　　期\n",
      "市　　場\n",
      "產　　品\n",
      "上價\n",
      "中價\n",
      "下價\n",
      "平均價(元/公斤)\n",
      "增減%\n",
      "交易量(公斤)\n",
      "增減%\n",
      "nan\n"
     ]
    }
   ],
   "source": [
    "for i in range(df_c):\n",
    "    print(df.columns[i])"
   ]
  },
  {
   "cell_type": "code",
   "execution_count": 11,
   "metadata": {},
   "outputs": [
    {
     "data": {
      "text/html": [
       "<div>\n",
       "<style scoped>\n",
       "    .dataframe tbody tr th:only-of-type {\n",
       "        vertical-align: middle;\n",
       "    }\n",
       "\n",
       "    .dataframe tbody tr th {\n",
       "        vertical-align: top;\n",
       "    }\n",
       "\n",
       "    .dataframe thead th {\n",
       "        text-align: right;\n",
       "    }\n",
       "</style>\n",
       "<table border=\"1\" class=\"dataframe\">\n",
       "  <thead>\n",
       "    <tr style=\"text-align: right;\">\n",
       "      <th></th>\n",
       "      <th>日　　期</th>\n",
       "      <th>平均價(元/公斤)</th>\n",
       "      <th>交易量(公斤)</th>\n",
       "    </tr>\n",
       "  </thead>\n",
       "  <tbody>\n",
       "    <tr>\n",
       "      <th>1</th>\n",
       "      <td>106/01/01</td>\n",
       "      <td>61.7</td>\n",
       "      <td>326</td>\n",
       "    </tr>\n",
       "    <tr>\n",
       "      <th>2</th>\n",
       "      <td>106/01/03</td>\n",
       "      <td>60.7</td>\n",
       "      <td>2033</td>\n",
       "    </tr>\n",
       "    <tr>\n",
       "      <th>3</th>\n",
       "      <td>106/01/04</td>\n",
       "      <td>63.5</td>\n",
       "      <td>364</td>\n",
       "    </tr>\n",
       "    <tr>\n",
       "      <th>4</th>\n",
       "      <td>106/01/05</td>\n",
       "      <td>59.4</td>\n",
       "      <td>640</td>\n",
       "    </tr>\n",
       "    <tr>\n",
       "      <th>5</th>\n",
       "      <td>106/01/06</td>\n",
       "      <td>58.3</td>\n",
       "      <td>1306</td>\n",
       "    </tr>\n",
       "  </tbody>\n",
       "</table>\n",
       "</div>"
      ],
      "text/plain": [
       "        日　　期 平均價(元/公斤) 交易量(公斤)\n",
       "1  106/01/01      61.7     326\n",
       "2  106/01/03      60.7    2033\n",
       "3  106/01/04      63.5     364\n",
       "4  106/01/05      59.4     640\n",
       "5  106/01/06      58.3    1306"
      ]
     },
     "execution_count": 11,
     "metadata": {},
     "output_type": "execute_result"
    }
   ],
   "source": [
    "df[['日　　期','平均價(元/公斤)','交易量(公斤)']].head()"
   ]
  },
  {
   "cell_type": "code",
   "execution_count": 12,
   "metadata": {},
   "outputs": [
    {
     "data": {
      "text/html": [
       "<div>\n",
       "<style scoped>\n",
       "    .dataframe tbody tr th:only-of-type {\n",
       "        vertical-align: middle;\n",
       "    }\n",
       "\n",
       "    .dataframe tbody tr th {\n",
       "        vertical-align: top;\n",
       "    }\n",
       "\n",
       "    .dataframe thead th {\n",
       "        text-align: right;\n",
       "    }\n",
       "</style>\n",
       "<table border=\"1\" class=\"dataframe\">\n",
       "  <thead>\n",
       "    <tr style=\"text-align: right;\">\n",
       "      <th></th>\n",
       "      <th>日　　期</th>\n",
       "      <th>平均價(元/公斤)</th>\n",
       "      <th>交易量(公斤)</th>\n",
       "    </tr>\n",
       "  </thead>\n",
       "  <tbody>\n",
       "    <tr>\n",
       "      <th>668</th>\n",
       "      <td>108/04/05</td>\n",
       "      <td>11.5</td>\n",
       "      <td>900</td>\n",
       "    </tr>\n",
       "    <tr>\n",
       "      <th>669</th>\n",
       "      <td>108/04/09</td>\n",
       "      <td>13.2</td>\n",
       "      <td>5241</td>\n",
       "    </tr>\n",
       "    <tr>\n",
       "      <th>670</th>\n",
       "      <td>108/04/10</td>\n",
       "      <td>13.3</td>\n",
       "      <td>5855</td>\n",
       "    </tr>\n",
       "    <tr>\n",
       "      <th>671</th>\n",
       "      <td>108/04/11</td>\n",
       "      <td>13</td>\n",
       "      <td>4354</td>\n",
       "    </tr>\n",
       "    <tr>\n",
       "      <th>672</th>\n",
       "      <td>小　　計</td>\n",
       "      <td>0</td>\n",
       "      <td>0</td>\n",
       "    </tr>\n",
       "  </tbody>\n",
       "</table>\n",
       "</div>"
      ],
      "text/plain": [
       "          日　　期 平均價(元/公斤) 交易量(公斤)\n",
       "668  108/04/05      11.5     900\n",
       "669  108/04/09      13.2    5241\n",
       "670  108/04/10      13.3    5855\n",
       "671  108/04/11        13    4354\n",
       "672       小　　計         0       0"
      ]
     },
     "execution_count": 12,
     "metadata": {},
     "output_type": "execute_result"
    }
   ],
   "source": [
    "df[['日　　期','平均價(元/公斤)','交易量(公斤)']].tail()"
   ]
  },
  {
   "cell_type": "markdown",
   "metadata": {},
   "source": [
    "### 去掉小計"
   ]
  },
  {
   "cell_type": "code",
   "execution_count": 13,
   "metadata": {},
   "outputs": [],
   "source": [
    "df = df.drop(df[df['日　　期']=='小　　計'].index,axis=0)"
   ]
  },
  {
   "cell_type": "code",
   "execution_count": 14,
   "metadata": {},
   "outputs": [
    {
     "data": {
      "text/html": [
       "<div>\n",
       "<style scoped>\n",
       "    .dataframe tbody tr th:only-of-type {\n",
       "        vertical-align: middle;\n",
       "    }\n",
       "\n",
       "    .dataframe tbody tr th {\n",
       "        vertical-align: top;\n",
       "    }\n",
       "\n",
       "    .dataframe thead th {\n",
       "        text-align: right;\n",
       "    }\n",
       "</style>\n",
       "<table border=\"1\" class=\"dataframe\">\n",
       "  <thead>\n",
       "    <tr style=\"text-align: right;\">\n",
       "      <th></th>\n",
       "      <th>日　　期</th>\n",
       "      <th>市　　場</th>\n",
       "      <th>產　　品</th>\n",
       "      <th>上價</th>\n",
       "      <th>中價</th>\n",
       "      <th>下價</th>\n",
       "      <th>平均價(元/公斤)</th>\n",
       "      <th>增減%</th>\n",
       "      <th>交易量(公斤)</th>\n",
       "      <th>增減%</th>\n",
       "      <th>nan</th>\n",
       "    </tr>\n",
       "  </thead>\n",
       "  <tbody>\n",
       "    <tr>\n",
       "      <th>1</th>\n",
       "      <td>106/01/01</td>\n",
       "      <td>800 高雄市</td>\n",
       "      <td>P1 番石榴 珍珠芭</td>\n",
       "      <td>70</td>\n",
       "      <td>65.4</td>\n",
       "      <td>42.3</td>\n",
       "      <td>61.7</td>\n",
       "      <td>+  5</td>\n",
       "      <td>326</td>\n",
       "      <td>- 89</td>\n",
       "      <td>0.0</td>\n",
       "    </tr>\n",
       "    <tr>\n",
       "      <th>2</th>\n",
       "      <td>106/01/03</td>\n",
       "      <td>800 高雄市</td>\n",
       "      <td>P1 番石榴 珍珠芭</td>\n",
       "      <td>76.2</td>\n",
       "      <td>61.7</td>\n",
       "      <td>42.5</td>\n",
       "      <td>60.7</td>\n",
       "      <td>-  2</td>\n",
       "      <td>2033</td>\n",
       "      <td>+524</td>\n",
       "      <td>0.0</td>\n",
       "    </tr>\n",
       "    <tr>\n",
       "      <th>3</th>\n",
       "      <td>106/01/04</td>\n",
       "      <td>800 高雄市</td>\n",
       "      <td>P1 番石榴 珍珠芭</td>\n",
       "      <td>75</td>\n",
       "      <td>65.9</td>\n",
       "      <td>44.5</td>\n",
       "      <td>63.5</td>\n",
       "      <td>+  5</td>\n",
       "      <td>364</td>\n",
       "      <td>- 82</td>\n",
       "      <td>0.0</td>\n",
       "    </tr>\n",
       "    <tr>\n",
       "      <th>4</th>\n",
       "      <td>106/01/05</td>\n",
       "      <td>800 高雄市</td>\n",
       "      <td>P1 番石榴 珍珠芭</td>\n",
       "      <td>70</td>\n",
       "      <td>59</td>\n",
       "      <td>50</td>\n",
       "      <td>59.4</td>\n",
       "      <td>-  6</td>\n",
       "      <td>640</td>\n",
       "      <td>+ 76</td>\n",
       "      <td>0.0</td>\n",
       "    </tr>\n",
       "    <tr>\n",
       "      <th>5</th>\n",
       "      <td>106/01/06</td>\n",
       "      <td>800 高雄市</td>\n",
       "      <td>P1 番石榴 珍珠芭</td>\n",
       "      <td>79.2</td>\n",
       "      <td>57.7</td>\n",
       "      <td>39</td>\n",
       "      <td>58.3</td>\n",
       "      <td>-  2</td>\n",
       "      <td>1306</td>\n",
       "      <td>+104</td>\n",
       "      <td>0.0</td>\n",
       "    </tr>\n",
       "  </tbody>\n",
       "</table>\n",
       "</div>"
      ],
      "text/plain": [
       "        日　　期     市　　場         產　　品    上價    中價    下價 平均價(元/公斤)    增減% 交易量(公斤)  \\\n",
       "1  106/01/01  800 高雄市  P1 番石榴 珍珠芭     70  65.4  42.3      61.7   +  5     326   \n",
       "2  106/01/03  800 高雄市  P1 番石榴 珍珠芭   76.2  61.7  42.5      60.7   -  2    2033   \n",
       "3  106/01/04  800 高雄市  P1 番石榴 珍珠芭     75  65.9  44.5      63.5   +  5     364   \n",
       "4  106/01/05  800 高雄市  P1 番石榴 珍珠芭     70    59    50      59.4   -  6     640   \n",
       "5  106/01/06  800 高雄市  P1 番石榴 珍珠芭   79.2  57.7    39      58.3   -  2    1306   \n",
       "\n",
       "     增減%  NaN  \n",
       "1   - 89  0.0  \n",
       "2   +524  0.0  \n",
       "3   - 82  0.0  \n",
       "4   + 76  0.0  \n",
       "5   +104  0.0  "
      ]
     },
     "execution_count": 14,
     "metadata": {},
     "output_type": "execute_result"
    }
   ],
   "source": [
    "df.head()"
   ]
  },
  {
   "cell_type": "code",
   "execution_count": 15,
   "metadata": {},
   "outputs": [],
   "source": [
    "ndf = df[['日　　期','平均價(元/公斤)','交易量(公斤)']]"
   ]
  },
  {
   "cell_type": "code",
   "execution_count": 16,
   "metadata": {},
   "outputs": [
    {
     "data": {
      "text/html": [
       "<div>\n",
       "<style scoped>\n",
       "    .dataframe tbody tr th:only-of-type {\n",
       "        vertical-align: middle;\n",
       "    }\n",
       "\n",
       "    .dataframe tbody tr th {\n",
       "        vertical-align: top;\n",
       "    }\n",
       "\n",
       "    .dataframe thead th {\n",
       "        text-align: right;\n",
       "    }\n",
       "</style>\n",
       "<table border=\"1\" class=\"dataframe\">\n",
       "  <thead>\n",
       "    <tr style=\"text-align: right;\">\n",
       "      <th></th>\n",
       "      <th>日　　期</th>\n",
       "      <th>平均價(元/公斤)</th>\n",
       "      <th>交易量(公斤)</th>\n",
       "    </tr>\n",
       "  </thead>\n",
       "  <tbody>\n",
       "    <tr>\n",
       "      <th>1</th>\n",
       "      <td>106/01/01</td>\n",
       "      <td>61.7</td>\n",
       "      <td>326</td>\n",
       "    </tr>\n",
       "    <tr>\n",
       "      <th>2</th>\n",
       "      <td>106/01/03</td>\n",
       "      <td>60.7</td>\n",
       "      <td>2033</td>\n",
       "    </tr>\n",
       "    <tr>\n",
       "      <th>3</th>\n",
       "      <td>106/01/04</td>\n",
       "      <td>63.5</td>\n",
       "      <td>364</td>\n",
       "    </tr>\n",
       "    <tr>\n",
       "      <th>4</th>\n",
       "      <td>106/01/05</td>\n",
       "      <td>59.4</td>\n",
       "      <td>640</td>\n",
       "    </tr>\n",
       "    <tr>\n",
       "      <th>5</th>\n",
       "      <td>106/01/06</td>\n",
       "      <td>58.3</td>\n",
       "      <td>1306</td>\n",
       "    </tr>\n",
       "  </tbody>\n",
       "</table>\n",
       "</div>"
      ],
      "text/plain": [
       "        日　　期 平均價(元/公斤) 交易量(公斤)\n",
       "1  106/01/01      61.7     326\n",
       "2  106/01/03      60.7    2033\n",
       "3  106/01/04      63.5     364\n",
       "4  106/01/05      59.4     640\n",
       "5  106/01/06      58.3    1306"
      ]
     },
     "execution_count": 16,
     "metadata": {},
     "output_type": "execute_result"
    }
   ],
   "source": [
    "ndf.head()"
   ]
  },
  {
   "cell_type": "markdown",
   "metadata": {},
   "source": [
    "## 整理好了 開始畫圖"
   ]
  },
  {
   "cell_type": "code",
   "execution_count": 17,
   "metadata": {},
   "outputs": [],
   "source": [
    "x = np.array(ndf['平均價(元/公斤)'])\n",
    "y = np.array(ndf['交易量(公斤)'])"
   ]
  },
  {
   "cell_type": "code",
   "execution_count": 18,
   "metadata": {},
   "outputs": [
    {
     "data": {
      "text/plain": [
       "Text(0, 0.5, '交易量(公斤)')"
      ]
     },
     "execution_count": 18,
     "metadata": {},
     "output_type": "execute_result"
    },
    {
     "data": {
      "image/png": "[encoded data removed]",
      "text/plain": [
       "<Figure size 432x288 with 1 Axes>"
      ]
     },
     "metadata": {
      "needs_background": "light"
     },
     "output_type": "display_data"
    }
   ],
   "source": [
    "plt.scatter(x,y);\n",
    "plt.xlabel('平均價(元/公斤)')\n",
    "plt.ylabel('交易量(公斤)')"
   ]
  },
  {
   "cell_type": "code",
   "execution_count": 19,
   "metadata": {},
   "outputs": [],
   "source": [
    "from sklearn.linear_model import LinearRegression\n",
    "\n",
    "regr = LinearRegression()\n",
    "X = x.reshape(len(x),1)\n",
    "Y = y.reshape(len(y),1)"
   ]
  },
  {
   "cell_type": "code",
   "execution_count": 20,
   "metadata": {},
   "outputs": [],
   "source": [
    "from sklearn.model_selection import train_test_split\n",
    "\n",
    "x_train, x_test, y_train, y_test = train_test_split(X,Y,test_size=0.3,random_state=555)"
   ]
  },
  {
   "cell_type": "code",
   "execution_count": 21,
   "metadata": {},
   "outputs": [
    {
     "data": {
      "text/plain": [
       "Text(0, 0.5, '交易量(公斤)')"
      ]
     },
     "execution_count": 21,
     "metadata": {},
     "output_type": "execute_result"
    },
    {
     "data": {
      "image/png": "[encoded data removed]",
      "text/plain": [
       "<Figure size 432x288 with 1 Axes>"
      ]
     },
     "metadata": {
      "needs_background": "light"
     },
     "output_type": "display_data"
    }
   ],
   "source": [
    "plt.scatter(x_train,y_train);\n",
    "plt.xlabel('平均價(元/公斤)')\n",
    "plt.ylabel('交易量(公斤)')"
   ]
  },
  {
   "cell_type": "code",
   "execution_count": 22,
   "metadata": {},
   "outputs": [],
   "source": [
    "regr.fit(x_train,y_train)\n",
    "Y_pred = regr.predict(x_test)\n"
   ]
  },
  {
   "cell_type": "code",
   "execution_count": 25,
   "metadata": {},
   "outputs": [
    {
     "data": {
      "text/plain": [
       "Text(0, 0.5, '交易量(公斤)')"
      ]
     },
     "execution_count": 25,
     "metadata": {},
     "output_type": "execute_result"
    },
    {
     "data": {
      "image/png": "[encoded data removed]",
      "text/plain": [
       "<Figure size 432x288 with 1 Axes>"
      ]
     },
     "metadata": {
      "needs_background": "light"
     },
     "output_type": "display_data"
    }
   ],
   "source": [
    "plt.scatter(x_test, y_test)\n",
    "plt.plot(x_test, Y_pred, 'y');\n",
    "plt.xlabel('平均價(元/公斤)')\n",
    "plt.ylabel('交易量(公斤)')"
   ]
  },
  {
   "cell_type": "code",
   "execution_count": 24,
   "metadata": {},
   "outputs": [
    {
     "data": {
      "text/plain": [
       "-0.0022653828859724445"
      ]
     },
     "execution_count": 24,
     "metadata": {},
     "output_type": "execute_result"
    }
   ],
   "source": [
    "regr.score(x_test, y_test)\n"
   ]
  },
  {
   "cell_type": "markdown",
   "metadata": {},
   "source": [
    "相關係數＝-0.0023"
   ]
  },
  {
   "cell_type": "markdown",
   "metadata": {},
   "source": [
    "## 可見價格與銷售量的相關性很低"
   ]
  },
  {
   "cell_type": "markdown",
   "metadata": {},
   "source": [
    "原本以為會有不小的關聯，但看來不是一個好題目ˊˋ"
   ]
  },
  {
   "cell_type": "code",
   "execution_count": null,
   "metadata": {},
   "outputs": [],
   "source": []
  }
 ],
 "metadata": {
  "kernelspec": {
   "display_name": "Python 3",
   "language": "python",
   "name": "python3"
  },
  "language_info": {
   "codemirror_mode": {
    "name": "ipython",
    "version": 3
   },
   "file_extension": ".py",
   "mimetype": "text/x-python",
   "name": "python",
   "nbconvert_exporter": "python",
   "pygments_lexer": "ipython3",
   "version": "3.6.8"
  }
 },
 "nbformat": 4,
 "nbformat_minor": 2
}
